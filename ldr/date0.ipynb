{
 "cells": [
  {
   "cell_type": "code",
   "execution_count": 22,
   "metadata": {},
   "outputs": [
    {
     "name": "stdout",
     "output_type": "stream",
     "text": [
      "The autoreload extension is already loaded. To reload it, use:\n",
      "  %reload_ext autoreload\n",
      "2018-01-24 22:26:33.557023\n"
     ]
    }
   ],
   "source": [
    "import os\n",
    "import datetime\n",
    "\n",
    "import pandas as pd\n",
    "import numpy as np\n",
    "\n",
    "%load_ext autoreload\n",
    "%autoreload 1\n",
    "\n",
    "%aimport isodtg\n",
    "\n",
    "print(datetime.datetime.now())\n",
    "os.getcwd()\n",
    "\n",
    "from dateutil.parser import *\n",
    "from dateutil.tz import *\n",
    "from datetime import *"
   ]
  },
  {
   "cell_type": "code",
   "execution_count": 4,
   "metadata": {
    "collapsed": true
   },
   "outputs": [],
   "source": [
    "fci=pd.read_excel('RCI-fwy.xlsx')"
   ]
  },
  {
   "cell_type": "code",
   "execution_count": 5,
   "metadata": {},
   "outputs": [
    {
     "data": {
      "text/plain": [
       "OBJECTID_1                         int64\n",
       "FEATURE_ID                        object\n",
       "SITE_NAME                         object\n",
       "LOCATION                          object\n",
       "Offset                            object\n",
       "Primary_Footway_Material          object\n",
       "Secondary_Footway_Material        object\n",
       "Impairment_Factor_Trees           object\n",
       "Impairment_Factor_Utilities       object\n",
       "Impairment_Factor_Overrun         object\n",
       "Impairment_Factor_Parking         object\n",
       "Impairment_Factor_Shade           object\n",
       "Impairment_Factor_Other           object\n",
       "Condition_Percentage_CatA          int64\n",
       "Condition_Percentage_CatB          int64\n",
       "Condition_Percentage_CatC          int64\n",
       "Condition_Percentage_CatD          int64\n",
       "Crazed_Cracking_Defect            object\n",
       "Major_Cracking_Defect             object\n",
       "Sunken_Uneven_Defect              object\n",
       "Missing_Surface_Defect            object\n",
       "Hungry_Surface_Defect             object\n",
       "Fretting_Defect                   object\n",
       "Moss_Vegetation_Defect            object\n",
       "Aesthetically_Impaired_Defect     object\n",
       "Survey_Comments                   object\n",
       "Status                            object\n",
       "Inspection_Date                   object\n",
       "EditDate                          object\n",
       "Editor                            object\n",
       "DISTANCE                         float64\n",
       "dtype: object"
      ]
     },
     "execution_count": 5,
     "metadata": {},
     "output_type": "execute_result"
    }
   ],
   "source": [
    "fci.dtypes"
   ]
  },
  {
   "cell_type": "code",
   "execution_count": 6,
   "metadata": {},
   "outputs": [],
   "source": [
    "type(fci.Inspection_Date[0])\n",
    "s0 = fci.Inspection_Date[0]"
   ]
  },
  {
   "cell_type": "code",
   "execution_count": 7,
   "metadata": {},
   "outputs": [
    {
     "data": {
      "text/plain": [
       "datetime.datetime(2017, 11, 1, 0, 0)"
      ]
     },
     "execution_count": 7,
     "metadata": {},
     "output_type": "execute_result"
    }
   ],
   "source": [
    "parse(s0)"
   ]
  },
  {
   "cell_type": "code",
   "execution_count": 8,
   "metadata": {},
   "outputs": [
    {
     "data": {
      "text/plain": [
       "'1/11/2017, 10:04:21'"
      ]
     },
     "execution_count": 8,
     "metadata": {},
     "output_type": "execute_result"
    }
   ],
   "source": [
    "s0 = fci.EditDate[0]\n",
    "s0"
   ]
  },
  {
   "cell_type": "code",
   "execution_count": 9,
   "metadata": {},
   "outputs": [
    {
     "name": "stdout",
     "output_type": "stream",
     "text": [
      "<class 'datetime.datetime'>\n",
      "2017-11-01T10:04:21\n",
      "2017-11-01T10:04:21\n",
      "\n"
     ]
    }
   ],
   "source": [
    "d0 = parse(s0, dayfirst=True)\n",
    "print(type(d0))\n",
    "print(datetime.isoformat(d0))\n",
    "\n",
    "\n",
    "def isodt0(s0_):\n",
    "    \"Return an ISO date string. Empty string on parse error.\"\n",
    "    s1 = \"\"\n",
    "    try:\n",
    "        s1 = parse(s0_, dayfirst=True)\n",
    "    except:\n",
    "        return s1\n",
    "    \n",
    "    return datetime.isoformat(s1)\n",
    "\n",
    "print(isodt0(s0))\n",
    "print(isodt0(\"\"))"
   ]
  },
  {
   "cell_type": "code",
   "execution_count": 11,
   "metadata": {},
   "outputs": [
    {
     "name": "stdout",
     "output_type": "stream",
     "text": [
      "1/11/2017, 10:04:21\n",
      "2017-11-01T10:04:21\n",
      "2017-11-01T10:04:21\n"
     ]
    }
   ],
   "source": [
    "print(s0  )\n",
    "d1 = isodt0(s0)\n",
    "\n",
    "print(d1)\n",
    "print(isodtg.isodt0(s0))"
   ]
  },
  {
   "cell_type": "code",
   "execution_count": null,
   "metadata": {
    "collapsed": true
   },
   "outputs": [],
   "source": [
    "s0 = '1/11/2017, 8:04:21'"
   ]
  },
  {
   "cell_type": "code",
   "execution_count": null,
   "metadata": {},
   "outputs": [],
   "source": [
    "parse(s0, dayfirst=True)"
   ]
  },
  {
   "cell_type": "code",
   "execution_count": null,
   "metadata": {},
   "outputs": [],
   "source": [
    "fci['idt'] = fci.Inspection_Date.astype(str).apply(isodt0)\n",
    "fci.idt[20:40]"
   ]
  },
  {
   "cell_type": "code",
   "execution_count": null,
   "metadata": {},
   "outputs": [],
   "source": [
    "tbl = fci\n",
    "\n",
    "n0 = 'Inspection_Date'\n",
    "n1 = n0 + '0'\n",
    "\n",
    "tbl[n1] = tbl[n0].astype(str).apply(isodt0)"
   ]
  },
  {
   "cell_type": "code",
   "execution_count": null,
   "metadata": {},
   "outputs": [],
   "source": [
    "tbl[n1][20:40]"
   ]
  },
  {
   "cell_type": "code",
   "execution_count": 23,
   "metadata": {},
   "outputs": [],
   "source": [
    "?isodtg.apply"
   ]
  },
  {
   "cell_type": "code",
   "execution_count": 24,
   "metadata": {},
   "outputs": [],
   "source": [
    "fci1 = isodtg.apply(fci, 'Inspection_Date', f=isodt0)"
   ]
  },
  {
   "cell_type": "code",
   "execution_count": 25,
   "metadata": {},
   "outputs": [
    {
     "data": {
      "text/plain": [
       "OBJECTID_1                         int64\n",
       "FEATURE_ID                        object\n",
       "SITE_NAME                         object\n",
       "LOCATION                          object\n",
       "Offset                            object\n",
       "Primary_Footway_Material          object\n",
       "Secondary_Footway_Material        object\n",
       "Impairment_Factor_Trees           object\n",
       "Impairment_Factor_Utilities       object\n",
       "Impairment_Factor_Overrun         object\n",
       "Impairment_Factor_Parking         object\n",
       "Impairment_Factor_Shade           object\n",
       "Impairment_Factor_Other           object\n",
       "Condition_Percentage_CatA          int64\n",
       "Condition_Percentage_CatB          int64\n",
       "Condition_Percentage_CatC          int64\n",
       "Condition_Percentage_CatD          int64\n",
       "Crazed_Cracking_Defect            object\n",
       "Major_Cracking_Defect             object\n",
       "Sunken_Uneven_Defect              object\n",
       "Missing_Surface_Defect            object\n",
       "Hungry_Surface_Defect             object\n",
       "Fretting_Defect                   object\n",
       "Moss_Vegetation_Defect            object\n",
       "Aesthetically_Impaired_Defect     object\n",
       "Survey_Comments                   object\n",
       "Status                            object\n",
       "Inspection_Date                   object\n",
       "EditDate                          object\n",
       "Editor                            object\n",
       "DISTANCE                         float64\n",
       "Inspection_Date0                  object\n",
       "dtype: object"
      ]
     },
     "execution_count": 25,
     "metadata": {},
     "output_type": "execute_result"
    }
   ],
   "source": [
    "fci1.dtypes"
   ]
  },
  {
   "cell_type": "code",
   "execution_count": 26,
   "metadata": {},
   "outputs": [
    {
     "data": {
      "text/plain": [
       "'2017-11-01T00:00:00'"
      ]
     },
     "execution_count": 26,
     "metadata": {},
     "output_type": "execute_result"
    }
   ],
   "source": [
    "fci1.Inspection_Date0[0]"
   ]
  },
  {
   "cell_type": "code",
   "execution_count": 28,
   "metadata": {
    "collapsed": true
   },
   "outputs": [],
   "source": [
    "fci1 = isodtg.apply(fci1, 'EditDate', f=isodt0)"
   ]
  },
  {
   "cell_type": "code",
   "execution_count": 29,
   "metadata": {},
   "outputs": [
    {
     "data": {
      "text/plain": [
       "OBJECTID_1                         int64\n",
       "FEATURE_ID                        object\n",
       "SITE_NAME                         object\n",
       "LOCATION                          object\n",
       "Offset                            object\n",
       "Primary_Footway_Material          object\n",
       "Secondary_Footway_Material        object\n",
       "Impairment_Factor_Trees           object\n",
       "Impairment_Factor_Utilities       object\n",
       "Impairment_Factor_Overrun         object\n",
       "Impairment_Factor_Parking         object\n",
       "Impairment_Factor_Shade           object\n",
       "Impairment_Factor_Other           object\n",
       "Condition_Percentage_CatA          int64\n",
       "Condition_Percentage_CatB          int64\n",
       "Condition_Percentage_CatC          int64\n",
       "Condition_Percentage_CatD          int64\n",
       "Crazed_Cracking_Defect            object\n",
       "Major_Cracking_Defect             object\n",
       "Sunken_Uneven_Defect              object\n",
       "Missing_Surface_Defect            object\n",
       "Hungry_Surface_Defect             object\n",
       "Fretting_Defect                   object\n",
       "Moss_Vegetation_Defect            object\n",
       "Aesthetically_Impaired_Defect     object\n",
       "Survey_Comments                   object\n",
       "Status                            object\n",
       "Inspection_Date                   object\n",
       "EditDate                          object\n",
       "Editor                            object\n",
       "DISTANCE                         float64\n",
       "Inspection_Date0                  object\n",
       "EditDate0                         object\n",
       "dtype: object"
      ]
     },
     "execution_count": 29,
     "metadata": {},
     "output_type": "execute_result"
    }
   ],
   "source": [
    "fci1.dtypes"
   ]
  },
  {
   "cell_type": "code",
   "execution_count": 30,
   "metadata": {},
   "outputs": [
    {
     "data": {
      "text/plain": [
       "'2017-11-01T10:04:21'"
      ]
     },
     "execution_count": 30,
     "metadata": {},
     "output_type": "execute_result"
    }
   ],
   "source": [
    "fci1.EditDate0[0]"
   ]
  },
  {
   "cell_type": "code",
   "execution_count": null,
   "metadata": {
    "collapsed": true
   },
   "outputs": [],
   "source": []
  }
 ],
 "metadata": {
  "kernelspec": {
   "display_name": "Python 3",
   "language": "python",
   "name": "python3"
  },
  "language_info": {
   "codemirror_mode": {
    "name": "ipython",
    "version": 3
   },
   "file_extension": ".py",
   "mimetype": "text/x-python",
   "name": "python",
   "nbconvert_exporter": "python",
   "pygments_lexer": "ipython3",
   "version": "3.6.3"
  }
 },
 "nbformat": 4,
 "nbformat_minor": 2
}
